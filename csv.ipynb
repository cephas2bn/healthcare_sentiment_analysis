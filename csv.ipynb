{
 "cells": [
  {
   "cell_type": "code",
   "execution_count": 1,
   "metadata": {},
   "outputs": [
    {
     "name": "stdout",
     "output_type": "stream",
     "text": [
      "feedback_data.csv has been created with the specified columns.\n"
     ]
    }
   ],
   "source": [
    "import pandas as pd\n",
    "\n",
    "# Define the columns for the CSV\n",
    "columns = ['Timestamp', 'Feedback', 'Sentiment', 'Category']\n",
    "\n",
    "# Create an empty DataFrame with the specified columns\n",
    "feedback_data = pd.DataFrame(columns=columns)\n",
    "\n",
    "# Save the DataFrame to a CSV file\n",
    "feedback_data.to_csv('feedback_data.csv', index=False)\n",
    "\n",
    "print(\"feedback_data.csv has been created with the specified columns.\")\n"
   ]
  }
 ],
 "metadata": {
  "kernelspec": {
   "display_name": "gan",
   "language": "python",
   "name": "python3"
  },
  "language_info": {
   "codemirror_mode": {
    "name": "ipython",
    "version": 3
   },
   "file_extension": ".py",
   "mimetype": "text/x-python",
   "name": "python",
   "nbconvert_exporter": "python",
   "pygments_lexer": "ipython3",
   "version": "3.8.19"
  }
 },
 "nbformat": 4,
 "nbformat_minor": 2
}
